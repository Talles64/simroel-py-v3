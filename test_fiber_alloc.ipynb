{
 "cells": [
  {
   "cell_type": "code",
   "execution_count": 2,
   "id": "478b1c69",
   "metadata": {
    "pycharm": {
     "name": "#%%\n"
    }
   },
   "outputs": [],
   "source": [
    "from files.properties import Properties\n",
    "from utils.fiber import Fiber\n",
    "\n",
    "from operator import itemgetter\n",
    "import numpy as np"
   ]
  },
  {
   "cell_type": "code",
   "execution_count": 3,
   "id": "57cc40e6",
   "metadata": {
    "pycharm": {
     "name": "#%%\n"
    }
   },
   "outputs": [
    {
     "name": "stdout",
     "output_type": "stream",
     "text": [
      "C:\\Users\\gusta\\Desktop\\simroel-py-v3\\data\\parameters.json\n"
     ]
    }
   ],
   "source": [
    "f = Fiber(Properties())"
   ]
  },
  {
   "cell_type": "code",
   "execution_count": 4,
   "id": "6650cb75",
   "metadata": {
    "pycharm": {
     "name": "#%%\n"
    }
   },
   "outputs": [
    {
     "data": {
      "text/plain": [
       "dict_keys([(1, 2), (2, 1), (2, 3), (3, 2), (3, 4), (4, 3), (4, 1), (1, 4)])"
      ]
     },
     "execution_count": 4,
     "metadata": {},
     "output_type": "execute_result"
    }
   ],
   "source": [
    "f.fiber_data.keys()"
   ]
  },
  {
   "cell_type": "code",
   "execution_count": 5,
   "id": "fa472c1b",
   "metadata": {
    "pycharm": {
     "name": "#%%\n"
    }
   },
   "outputs": [],
   "source": [
    "#f.fiber_data.get((1, 2))"
   ]
  },
  {
   "cell_type": "code",
   "execution_count": 6,
   "id": "1238cbb2",
   "metadata": {
    "pycharm": {
     "name": "#%%\n"
    }
   },
   "outputs": [],
   "source": [
    "route = [(1, 2), (2, 3)]\n",
    "core = 2\n",
    "slots = (0, 10)\n",
    "gb = 1"
   ]
  },
  {
   "cell_type": "code",
   "execution_count": 7,
   "id": "38e8c2ab",
   "metadata": {
    "pycharm": {
     "name": "#%%\n"
    }
   },
   "outputs": [
    {
     "data": {
      "text/plain": [
       "(2, 7, 100)"
      ]
     },
     "execution_count": 7,
     "metadata": {},
     "output_type": "execute_result"
    }
   ],
   "source": [
    "route_data = np.stack(itemgetter(*route)(f.fiber_data))\n",
    "route_data.shape"
   ]
  },
  {
   "cell_type": "code",
   "execution_count": 8,
   "id": "f839422a",
   "metadata": {
    "pycharm": {
     "name": "#%%\n"
    }
   },
   "outputs": [],
   "source": [
    "# for pair in route:\n",
    "#     f.fiber_data.get(pair)[core, slots[0]:slots[1]] = 0\n",
    "#     f.fiber_data.get(pair)[core, slots[1]-1] = -2"
   ]
  },
  {
   "cell_type": "code",
   "execution_count": 17,
   "id": "87158a91",
   "metadata": {
    "pycharm": {
     "name": "#%%\n"
    }
   },
   "outputs": [],
   "source": [
    "def first_fit(fiber, conn, route, core):\n",
    "    slot_size = int(conn[\"slots\"])\n",
    "    guard_band = int(conn[\"gb\"])\n",
    "    \n",
    "    sample = np.stack(itemgetter(*route)(f.fiber_data))\n",
    "    print(sample.shape)\n",
    "    print(sample)\n",
    "    \n",
    "    for slot in range(sample.shape[-1] - 1 - slot_size+guard_band):\n",
    "        if np.all((sample[:, core, slot:slot+slot_size+guard_band]) == -1):\n",
    "            return slot, slot+slot_size+guard_band \n",
    "    \n",
    "\n",
    "def random_fit(fiber, conn, route, core):\n",
    "    slot_size = int(conn[\"slots\"])\n",
    "    guard_band = int(conn[\"gb\"])\n",
    "    fiber_slots = []\n",
    "    \n",
    "    sample = np.stack(itemgetter(*route)(f.fiber_data))\n",
    "    print(sample.shape)\n",
    "    print(sample)\n",
    "    \n",
    "    for slot in range(sample.shape[-1] - 1 - slot_size + guard_band):\n",
    "        if np.all((sample[:, core, slot:slot + slot_size + guard_band]) == -1):\n",
    "            fiber_slots.append((slot, slot + slot_size + guard_band))\n",
    "\n",
    "    if len(fiber_slots) == 0: return -1\n",
    "    np.random.shuffle(fiber_slots)\n",
    "    return fiber_slots[0]\n",
    "\n",
    "def alloc(fiber, conn, route, core, how=\"first_fit\"):\n",
    "    slots = globals()[how](fiber.get(*route), conn, route, core)\n",
    "    print(slots)"
   ]
  },
  {
   "cell_type": "code",
   "execution_count": 15,
   "id": "3e72dc48",
   "metadata": {},
   "outputs": [
    {
     "data": {
      "text/plain": [
       "[(1, 2), (2, 3)]"
      ]
     },
     "execution_count": 15,
     "metadata": {},
     "output_type": "execute_result"
    }
   ],
   "source": [
    "route"
   ]
  },
  {
   "cell_type": "code",
   "execution_count": 14,
   "id": "626d2df0",
   "metadata": {},
   "outputs": [
    {
     "data": {
      "text/plain": [
       "(7, 100)"
      ]
     },
     "execution_count": 14,
     "metadata": {},
     "output_type": "execute_result"
    }
   ],
   "source": [
    "f.fiber_data.get(*route).shape"
   ]
  },
  {
   "cell_type": "code",
   "execution_count": 11,
   "id": "cee185e2",
   "metadata": {},
   "outputs": [
    {
     "data": {
      "text/plain": [
       "[(1, 2), (2, 3)]"
      ]
     },
     "execution_count": 11,
     "metadata": {},
     "output_type": "execute_result"
    }
   ],
   "source": [
    "route"
   ]
  },
  {
   "cell_type": "code",
   "execution_count": 34,
   "id": "9f8b133d",
   "metadata": {
    "pycharm": {
     "name": "#%%\n"
    }
   },
   "outputs": [
    {
     "data": {
      "text/plain": [
       "array([[-1, -1, -1, -1, -1]], dtype=int8)"
      ]
     },
     "execution_count": 34,
     "metadata": {},
     "output_type": "execute_result"
    }
   ],
   "source": [
    "np.expand_dims(f.fiber_data.get((1, 4)), axis=0)[:, 0, :5]"
   ]
  },
  {
   "cell_type": "code",
   "execution_count": 20,
   "id": "848334ae",
   "metadata": {
    "pycharm": {
     "name": "#%%\n"
    }
   },
   "outputs": [
    {
     "name": "stdout",
     "output_type": "stream",
     "text": [
      "(7, 100)\n",
      "[[-1 -1 -1 -1 -1 -1 -1 -1 -1 -1 -1 -1 -1 -1 -1 -1 -1 -1 -1 -1 -1 -1 -1 -1\n",
      "  -1 -1 -1 -1 -1 -1 -1 -1 -1 -1 -1 -1 -1 -1 -1 -1 -1 -1 -1 -1 -1 -1 -1 -1\n",
      "  -1 -1 -1 -1 -1 -1 -1 -1 -1 -1 -1 -1 -1 -1 -1 -1 -1 -1 -1 -1 -1 -1 -1 -1\n",
      "  -1 -1 -1 -1 -1 -1 -1 -1 -1 -1 -1 -1 -1 -1 -1 -1 -1 -1 -1 -1 -1 -1 -1 -1\n",
      "  -1 -1 -1 -1]\n",
      " [-1 -1 -1 -1 -1 -1 -1 -1 -1 -1 -1 -1 -1 -1 -1 -1 -1 -1 -1 -1 -1 -1 -1 -1\n",
      "  -1 -1 -1 -1 -1 -1 -1 -1 -1 -1 -1 -1 -1 -1 -1 -1 -1 -1 -1 -1 -1 -1 -1 -1\n",
      "  -1 -1 -1 -1 -1 -1 -1 -1 -1 -1 -1 -1 -1 -1 -1 -1 -1 -1 -1 -1 -1 -1 -1 -1\n",
      "  -1 -1 -1 -1 -1 -1 -1 -1 -1 -1 -1 -1 -1 -1 -1 -1 -1 -1 -1 -1 -1 -1 -1 -1\n",
      "  -1 -1 -1 -1]\n",
      " [-1 -1 -1 -1 -1 -1 -1 -1 -1 -1 -1 -1 -1 -1 -1 -1 -1 -1 -1 -1 -1 -1 -1 -1\n",
      "  -1 -1 -1 -1 -1 -1 -1 -1 -1 -1 -1 -1 -1 -1 -1 -1 -1 -1 -1 -1 -1 -1 -1 -1\n",
      "  -1 -1 -1 -1 -1 -1 -1 -1 -1 -1 -1 -1 -1 -1 -1 -1 -1 -1 -1 -1 -1 -1 -1 -1\n",
      "  -1 -1 -1 -1 -1 -1 -1 -1 -1 -1 -1 -1 -1 -1 -1 -1 -1 -1 -1 -1 -1 -1 -1 -1\n",
      "  -1 -1 -1 -1]\n",
      " [-1 -1 -1 -1 -1 -1 -1 -1 -1 -1 -1 -1 -1 -1 -1 -1 -1 -1 -1 -1 -1 -1 -1 -1\n",
      "  -1 -1 -1 -1 -1 -1 -1 -1 -1 -1 -1 -1 -1 -1 -1 -1 -1 -1 -1 -1 -1 -1 -1 -1\n",
      "  -1 -1 -1 -1 -1 -1 -1 -1 -1 -1 -1 -1 -1 -1 -1 -1 -1 -1 -1 -1 -1 -1 -1 -1\n",
      "  -1 -1 -1 -1 -1 -1 -1 -1 -1 -1 -1 -1 -1 -1 -1 -1 -1 -1 -1 -1 -1 -1 -1 -1\n",
      "  -1 -1 -1 -1]\n",
      " [-1 -1 -1 -1 -1 -1 -1 -1 -1 -1 -1 -1 -1 -1 -1 -1 -1 -1 -1 -1 -1 -1 -1 -1\n",
      "  -1 -1 -1 -1 -1 -1 -1 -1 -1 -1 -1 -1 -1 -1 -1 -1 -1 -1 -1 -1 -1 -1 -1 -1\n",
      "  -1 -1 -1 -1 -1 -1 -1 -1 -1 -1 -1 -1 -1 -1 -1 -1 -1 -1 -1 -1 -1 -1 -1 -1\n",
      "  -1 -1 -1 -1 -1 -1 -1 -1 -1 -1 -1 -1 -1 -1 -1 -1 -1 -1 -1 -1 -1 -1 -1 -1\n",
      "  -1 -1 -1 -1]\n",
      " [-1 -1 -1 -1 -1 -1 -1 -1 -1 -1 -1 -1 -1 -1 -1 -1 -1 -1 -1 -1 -1 -1 -1 -1\n",
      "  -1 -1 -1 -1 -1 -1 -1 -1 -1 -1 -1 -1 -1 -1 -1 -1 -1 -1 -1 -1 -1 -1 -1 -1\n",
      "  -1 -1 -1 -1 -1 -1 -1 -1 -1 -1 -1 -1 -1 -1 -1 -1 -1 -1 -1 -1 -1 -1 -1 -1\n",
      "  -1 -1 -1 -1 -1 -1 -1 -1 -1 -1 -1 -1 -1 -1 -1 -1 -1 -1 -1 -1 -1 -1 -1 -1\n",
      "  -1 -1 -1 -1]\n",
      " [-1 -1 -1 -1 -1 -1 -1 -1 -1 -1 -1 -1 -1 -1 -1 -1 -1 -1 -1 -1 -1 -1 -1 -1\n",
      "  -1 -1 -1 -1 -1 -1 -1 -1 -1 -1 -1 -1 -1 -1 -1 -1 -1 -1 -1 -1 -1 -1 -1 -1\n",
      "  -1 -1 -1 -1 -1 -1 -1 -1 -1 -1 -1 -1 -1 -1 -1 -1 -1 -1 -1 -1 -1 -1 -1 -1\n",
      "  -1 -1 -1 -1 -1 -1 -1 -1 -1 -1 -1 -1 -1 -1 -1 -1 -1 -1 -1 -1 -1 -1 -1 -1\n",
      "  -1 -1 -1 -1]]\n"
     ]
    },
    {
     "ename": "IndexError",
     "evalue": "too many indices for array: array is 2-dimensional, but 3 were indexed",
     "output_type": "error",
     "traceback": [
      "\u001B[1;31m---------------------------------------------------------------------------\u001B[0m",
      "\u001B[1;31mIndexError\u001B[0m                                Traceback (most recent call last)",
      "Input \u001B[1;32mIn [20]\u001B[0m, in \u001B[0;36m<cell line: 2>\u001B[1;34m()\u001B[0m\n\u001B[0;32m      1\u001B[0m conn \u001B[38;5;241m=\u001B[39m {\u001B[38;5;124m\"\u001B[39m\u001B[38;5;124mslots\u001B[39m\u001B[38;5;124m\"\u001B[39m: \u001B[38;5;241m5\u001B[39m, \u001B[38;5;124m\"\u001B[39m\u001B[38;5;124mgb\u001B[39m\u001B[38;5;124m\"\u001B[39m:\u001B[38;5;241m1\u001B[39m}\n\u001B[1;32m----> 2\u001B[0m \u001B[43malloc\u001B[49m\u001B[43m(\u001B[49m\u001B[43mf\u001B[49m\u001B[38;5;241;43m.\u001B[39;49m\u001B[43mfiber_data\u001B[49m\u001B[43m,\u001B[49m\u001B[43m \u001B[49m\u001B[43mconn\u001B[49m\u001B[43m,\u001B[49m\u001B[43m \u001B[49m\u001B[43m[\u001B[49m\u001B[43m(\u001B[49m\u001B[38;5;241;43m1\u001B[39;49m\u001B[43m,\u001B[49m\u001B[43m \u001B[49m\u001B[38;5;241;43m4\u001B[39;49m\u001B[43m)\u001B[49m\u001B[43m]\u001B[49m\u001B[43m,\u001B[49m\u001B[43m \u001B[49m\u001B[43mcore\u001B[49m\u001B[43m)\u001B[49m\n",
      "Input \u001B[1;32mIn [17]\u001B[0m, in \u001B[0;36malloc\u001B[1;34m(fiber, conn, route, core, how)\u001B[0m\n\u001B[0;32m     31\u001B[0m \u001B[38;5;28;01mdef\u001B[39;00m \u001B[38;5;21malloc\u001B[39m(fiber, conn, route, core, how\u001B[38;5;241m=\u001B[39m\u001B[38;5;124m\"\u001B[39m\u001B[38;5;124mfirst_fit\u001B[39m\u001B[38;5;124m\"\u001B[39m):\n\u001B[1;32m---> 32\u001B[0m     slots \u001B[38;5;241m=\u001B[39m \u001B[38;5;28;43mglobals\u001B[39;49m\u001B[43m(\u001B[49m\u001B[43m)\u001B[49m\u001B[43m[\u001B[49m\u001B[43mhow\u001B[49m\u001B[43m]\u001B[49m\u001B[43m(\u001B[49m\u001B[43mfiber\u001B[49m\u001B[38;5;241;43m.\u001B[39;49m\u001B[43mget\u001B[49m\u001B[43m(\u001B[49m\u001B[38;5;241;43m*\u001B[39;49m\u001B[43mroute\u001B[49m\u001B[43m)\u001B[49m\u001B[43m,\u001B[49m\u001B[43m \u001B[49m\u001B[43mconn\u001B[49m\u001B[43m,\u001B[49m\u001B[43m \u001B[49m\u001B[43mroute\u001B[49m\u001B[43m,\u001B[49m\u001B[43m \u001B[49m\u001B[43mcore\u001B[49m\u001B[43m)\u001B[49m\n\u001B[0;32m     33\u001B[0m     \u001B[38;5;28mprint\u001B[39m(slots)\n",
      "Input \u001B[1;32mIn [17]\u001B[0m, in \u001B[0;36mfirst_fit\u001B[1;34m(fiber, conn, route, core)\u001B[0m\n\u001B[0;32m      7\u001B[0m \u001B[38;5;28mprint\u001B[39m(sample)\n\u001B[0;32m      9\u001B[0m \u001B[38;5;28;01mfor\u001B[39;00m slot \u001B[38;5;129;01min\u001B[39;00m \u001B[38;5;28mrange\u001B[39m(sample\u001B[38;5;241m.\u001B[39mshape[\u001B[38;5;241m-\u001B[39m\u001B[38;5;241m1\u001B[39m] \u001B[38;5;241m-\u001B[39m \u001B[38;5;241m1\u001B[39m \u001B[38;5;241m-\u001B[39m slot_size\u001B[38;5;241m+\u001B[39mguard_band):\n\u001B[1;32m---> 10\u001B[0m     \u001B[38;5;28;01mif\u001B[39;00m np\u001B[38;5;241m.\u001B[39mall((\u001B[43msample\u001B[49m\u001B[43m[\u001B[49m\u001B[43m:\u001B[49m\u001B[43m,\u001B[49m\u001B[43m \u001B[49m\u001B[43mcore\u001B[49m\u001B[43m,\u001B[49m\u001B[43m \u001B[49m\u001B[43mslot\u001B[49m\u001B[43m:\u001B[49m\u001B[43mslot\u001B[49m\u001B[38;5;241;43m+\u001B[39;49m\u001B[43mslot_size\u001B[49m\u001B[38;5;241;43m+\u001B[39;49m\u001B[43mguard_band\u001B[49m\u001B[43m]\u001B[49m) \u001B[38;5;241m==\u001B[39m \u001B[38;5;241m-\u001B[39m\u001B[38;5;241m1\u001B[39m):\n\u001B[0;32m     11\u001B[0m         \u001B[38;5;28;01mreturn\u001B[39;00m slot, slot\u001B[38;5;241m+\u001B[39mslot_size\u001B[38;5;241m+\u001B[39mguard_band\n",
      "\u001B[1;31mIndexError\u001B[0m: too many indices for array: array is 2-dimensional, but 3 were indexed"
     ]
    }
   ],
   "source": [
    "conn = {\"slots\": 5, \"gb\":1}\n",
    "alloc(f.fiber_data, conn, [(1, 4)], core)"
   ]
  },
  {
   "cell_type": "code",
   "execution_count": 19,
   "id": "4591cafb",
   "metadata": {
    "pycharm": {
     "name": "#%%\n"
    }
   },
   "outputs": [
    {
     "name": "stdout",
     "output_type": "stream",
     "text": [
      "(2, 7, 100)\n",
      "[[[-1 -1 -1 ... -1 -1 -1]\n",
      "  [-1 -1 -1 ... -1 -1 -1]\n",
      "  [-1 -1 -1 ... -1 -1 -1]\n",
      "  ...\n",
      "  [-1 -1 -1 ... -1 -1 -1]\n",
      "  [-1 -1 -1 ... -1 -1 -1]\n",
      "  [-1 -1 -1 ... -1 -1 -1]]\n",
      "\n",
      " [[-1 -1 -1 ... -1 -1 -1]\n",
      "  [-1 -1 -1 ... -1 -1 -1]\n",
      "  [-1 -1 -1 ... -1 -1 -1]\n",
      "  ...\n",
      "  [-1 -1 -1 ... -1 -1 -1]\n",
      "  [-1 -1 -1 ... -1 -1 -1]\n",
      "  [-1 -1 -1 ... -1 -1 -1]]]\n",
      "(63, 69)\n"
     ]
    }
   ],
   "source": [
    "conn = {\"slots\": 5, \"gb\":1}\n",
    "alloc(f.fiber_data, conn, route, core, how=\"random_fit\")"
   ]
  },
  {
   "cell_type": "code",
   "execution_count": 79,
   "id": "17364292",
   "metadata": {
    "pycharm": {
     "name": "#%%\n"
    }
   },
   "outputs": [
    {
     "name": "stdout",
     "output_type": "stream",
     "text": [
      "(0, 6)\n"
     ]
    }
   ],
   "source": [
    "conn = {\"slots\": 5, \"gb\":1}\n",
    "alloc(f.fiber_data, conn, route, core)"
   ]
  },
  {
   "cell_type": "code",
   "execution_count": 94,
   "id": "50ca7269",
   "metadata": {
    "pycharm": {
     "name": "#%%\n"
    }
   },
   "outputs": [
    {
     "name": "stdout",
     "output_type": "stream",
     "text": [
      "(61, 67)\n"
     ]
    }
   ],
   "source": [
    "conn = {\"slots\": 5, \"gb\":1}\n",
    "alloc(f.fiber_data, conn, route, core, how=\"random_fit\")"
   ]
  },
  {
   "cell_type": "code",
   "execution_count": null,
   "id": "27eefa28",
   "metadata": {
    "pycharm": {
     "name": "#%%\n"
    }
   },
   "outputs": [],
   "source": []
  }
 ],
 "metadata": {
  "kernelspec": {
   "display_name": "Python 3 (ipykernel)",
   "language": "python",
   "name": "python3"
  },
  "language_info": {
   "codemirror_mode": {
    "name": "ipython",
    "version": 3
   },
   "file_extension": ".py",
   "mimetype": "text/x-python",
   "name": "python",
   "nbconvert_exporter": "python",
   "pygments_lexer": "ipython3",
   "version": "3.8.10"
  }
 },
 "nbformat": 4,
 "nbformat_minor": 5
}