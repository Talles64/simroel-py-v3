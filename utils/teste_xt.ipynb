{
 "cells": [
  {
   "cell_type": "code",
   "execution_count": 1,
   "metadata": {
    "collapsed": true
   },
   "outputs": [],
   "source": [
    "import pandas as pd\n",
    "import numpy as np\n",
    "import math\n",
    "from files.properties import Properties\n",
    "from fiber import Fiber\n",
    "from connection import Connection"
   ]
  },
  {
   "cell_type": "code",
   "execution_count": 2,
   "outputs": [
    {
     "ename": "TypeError",
     "evalue": "__init__() missing 7 required positional arguments: 'iid', 'src', 'tgt', 'size', 'hold', 'arrive', and 'params'",
     "output_type": "error",
     "traceback": [
      "\u001B[1;31m---------------------------------------------------------------------------\u001B[0m",
      "\u001B[1;31mTypeError\u001B[0m                                 Traceback (most recent call last)",
      "Input \u001B[1;32mIn [2]\u001B[0m, in \u001B[0;36m<cell line: 1>\u001B[1;34m()\u001B[0m\n\u001B[1;32m----> 1\u001B[0m c \u001B[38;5;241m=\u001B[39m \u001B[43mConnection\u001B[49m\u001B[43m(\u001B[49m\u001B[43m)\u001B[49m\n\u001B[0;32m      2\u001B[0m c\u001B[38;5;241m.\u001B[39msrc\n",
      "\u001B[1;31mTypeError\u001B[0m: __init__() missing 7 required positional arguments: 'iid', 'src', 'tgt', 'size', 'hold', 'arrive', and 'params'"
     ]
    }
   ],
   "source": [
    "c = Connection()\n",
    "c.src"
   ],
   "metadata": {
    "collapsed": false
   }
  },
  {
   "cell_type": "code",
   "execution_count": null,
   "outputs": [],
   "source": [
    "p = Properties()\n",
    "mcf = p.get_mcf_config()\n",
    "mcf"
   ],
   "metadata": {
    "collapsed": false
   }
  },
  {
   "cell_type": "code",
   "execution_count": 6,
   "outputs": [
    {
     "name": "stdout",
     "output_type": "stream",
     "text": [
      "C:\\Users\\talle\\Videos\\simroel-py-v3\\data\\parameters.json\n"
     ]
    }
   ],
   "source": [
    "params = Properties()\n",
    "fiber = Fiber(params)\n",
    "alocationtabble = fiber.fiber_data[(0,1)]"
   ],
   "metadata": {
    "collapsed": false
   }
  },
  {
   "cell_type": "code",
   "execution_count": 7,
   "outputs": [
    {
     "data": {
      "text/plain": "array([[-1, -1, -1, ..., -1, -1, -1],\n       [-1, -1, -1, ..., -1, -1, -1],\n       [-1, -1, -1, ..., -1, -1, -1],\n       ...,\n       [-1, -1, -1, ..., -1, -1, -1],\n       [-1, -1, -1, ..., -1, -1, -1],\n       [-1, -1, -1, ..., -1, -1, -1]], dtype=int8)"
     },
     "execution_count": 7,
     "metadata": {},
     "output_type": "execute_result"
    }
   ],
   "source": [
    "alocationtabble"
   ],
   "metadata": {
    "collapsed": false
   }
  },
  {
   "cell_type": "code",
   "execution_count": null,
   "outputs": [],
   "source": [
    "def hascrosstalk(core, slot, mcf, alocationtabble):\n",
    "    Xt = []\n",
    "    for cores in mcf[\"adjs\"][core]:\n",
    "        if alocationtabble[cores][slot] == 1:\n",
    "            Xt.append(cores)\n",
    "\n",
    "        else:\n",
    "            pass\n",
    "    if Xt == []:\n",
    "        return False\n",
    "    else:\n",
    "        return Xt"
   ],
   "metadata": {
    "collapsed": false
   }
  },
  {
   "cell_type": "code",
   "execution_count": null,
   "outputs": [],
   "source": [
    "\n",
    "def CalculateCrosstalk(x,k,b,r,d,l, alocate):\n",
    "    if hascrosstalk(corea, slota, MCF_7) == False:\n",
    "        print(\"não tem XT\")\n",
    "        pass\n",
    "    else:\n",
    "        xt = 2*((math.pow(k,2)/b)*(r/d))*l\n",
    "        if alocate == True:\n",
    "            for core in x:\n",
    "                xtabble[core]+=xt\n",
    "                print(f\"no core {core} o Xt é igual a {xtabble[core]}\")\n",
    "            xtabble[corea]+=xt\n",
    "            print(f\"no core {corea} o Xt é igual a {xtabble[corea]}\")\n",
    "        else:\n",
    "            for core in x:\n",
    "                xtabble[core]-=xt\n",
    "                print(f\"no core {core} o Xt é igual a {xtabble[core]}\")\n",
    "            xtabble[corea]-=xt\n",
    "            print(f\"no core {corea} o Xt é igual a {xtabble[corea]}\")"
   ],
   "metadata": {
    "collapsed": false
   }
  }
 ],
 "metadata": {
  "kernelspec": {
   "display_name": "Python 3",
   "language": "python",
   "name": "python3"
  },
  "language_info": {
   "codemirror_mode": {
    "name": "ipython",
    "version": 2
   },
   "file_extension": ".py",
   "mimetype": "text/x-python",
   "name": "python",
   "nbconvert_exporter": "python",
   "pygments_lexer": "ipython2",
   "version": "2.7.6"
  }
 },
 "nbformat": 4,
 "nbformat_minor": 0
}
